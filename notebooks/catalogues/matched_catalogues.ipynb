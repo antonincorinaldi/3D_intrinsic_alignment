{
 "cells": [
  {
   "cell_type": "markdown",
   "id": "4da0d58c",
   "metadata": {},
   "source": [
    "### Matched catalogues\n",
    "\n",
    "Notebook to create the matched catalogues that we will analyze later : match between UNIONS galaxy shape survey and the SDSS and DESI spectroscopic surveys. \n",
    "\n",
    "This catalogue will be used then to measure intrinsic alignment by knowing shapes and redshifts of galaxies"
   ]
  },
  {
   "cell_type": "code",
   "execution_count": 1,
   "id": "3fe0bc20-bd46-40a8-9a05-27b552954950",
   "metadata": {},
   "outputs": [],
   "source": [
    "import numpy as np\n",
    "import pandas as pd\n",
    "\n",
    "from astropy.io import fits\n",
    "from astropy.table import Table\n",
    "from astropy.coordinates import SkyCoord, match_coordinates_sky\n",
    "from astropy.coordinates import concatenate\n",
    "from astropy import units as u"
   ]
  },
  {
   "cell_type": "markdown",
   "id": "6b61a68e",
   "metadata": {},
   "source": [
    "### BOSS survey (SDSS)"
   ]
  },
  {
   "cell_type": "markdown",
   "id": "f1fbf31f",
   "metadata": {},
   "source": [
    "CMASS galaxies : data"
   ]
  },
  {
   "cell_type": "code",
   "execution_count": 3,
   "id": "4f4ad781-b144-479a-989a-c408b40ecd70",
   "metadata": {},
   "outputs": [],
   "source": [
    "# Northern hemisphere\n",
    "cmass_table = Table.read('/Users/antonincorinaldi/Documents/stage césure/data/SDSS/BOSS/galaxy_DR12v5_CMASS_North.fits')\n",
    "\n",
    "names = [name for name in cmass_table.colnames if len(cmass_table[name].shape) <= 1]\n",
    "filtered_tbl = cmass_table[names]\n",
    "\n",
    "cmass_north = filtered_tbl.to_pandas()\n",
    "cmass_north.columns\n",
    "\n",
    "\n",
    "\n",
    "\n",
    "# Southern hemisphere\n",
    "cmass_table = Table.read('/Users/antonincorinaldi/Documents/stage césure/data/SDSS/BOSS/galaxy_DR12v5_CMASS_South.fits')\n",
    "\n",
    "names = [name for name in cmass_table.colnames if len(cmass_table[name].shape) <= 1]\n",
    "filtered_tbl = cmass_table[names]\n",
    "\n",
    "cmass_south = filtered_tbl.to_pandas()\n",
    "cmass_south.columns\n",
    "\n",
    "\n",
    "\n",
    "\n",
    "# Combination of northern and southern hemisphere\n",
    "cmass = pd.concat([cmass_north, cmass_south], ignore_index=True)\n",
    "\n",
    "table = Table.from_pandas(cmass)\n",
    "table.write('CMASS_data_NGC+SGC.fits', format=\"fits\", overwrite=True)"
   ]
  },
  {
   "cell_type": "markdown",
   "id": "f207fb5f",
   "metadata": {},
   "source": [
    "CMASS galaxies : random"
   ]
  },
  {
   "cell_type": "code",
   "execution_count": 4,
   "id": "0b98d7b3",
   "metadata": {},
   "outputs": [],
   "source": [
    "random_cmass_table = Table.read('/Users/antonincorinaldi/Documents/stage césure/data/SDSS/BOSS/random0_DR12v5_CMASS_North.fits')\n",
    "\n",
    "names = [name for name in random_cmass_table.colnames if len(random_cmass_table[name].shape) <= 1]\n",
    "filtered_tbl = random_cmass_table[names]\n",
    "\n",
    "random_cmass_north = filtered_tbl.to_pandas()\n",
    "random_cmass_north.columns\n",
    "\n",
    "\n",
    "\n",
    "\n",
    "\n",
    "random_cmass_table = Table.read('/Users/antonincorinaldi/Documents/stage césure/data/SDSS/BOSS/random0_DR12v5_CMASS_South.fits')\n",
    "\n",
    "names = [name for name in random_cmass_table.colnames if len(random_cmass_table[name].shape) <= 1]\n",
    "filtered_tbl = random_cmass_table[names]\n",
    "\n",
    "random_cmass_south = filtered_tbl.to_pandas()\n",
    "random_cmass_south.columns\n",
    "\n",
    "\n",
    "\n",
    "\n",
    "random_cmass = pd.concat([random_cmass_north, random_cmass_south], ignore_index=True)\n",
    "random_cmass = random_cmass[:len(cmass)]\n",
    "\n",
    "\n",
    "table = Table.from_pandas(random_cmass)\n",
    "table.write('CMASS_random_NGC+SGC.fits', format=\"fits\", overwrite=True)"
   ]
  },
  {
   "cell_type": "markdown",
   "id": "2741d5da",
   "metadata": {},
   "source": [
    "### DESI survey"
   ]
  },
  {
   "cell_type": "markdown",
   "id": "246e6293",
   "metadata": {},
   "source": [
    "LRG (Luminous Red Galaxies) : data"
   ]
  },
  {
   "cell_type": "code",
   "execution_count": 5,
   "id": "33308bff",
   "metadata": {},
   "outputs": [],
   "source": [
    "lrg_table = Table.read('/Users/antonincorinaldi/Documents/stage césure/data/DESI/LRG_NGC_clustering.dat.fits')\n",
    "\n",
    "names = [name for name in lrg_table.colnames if len(lrg_table[name].shape) <= 1]\n",
    "filtered_tbl = lrg_table[names]\n",
    "\n",
    "lrg_north = filtered_tbl.to_pandas()\n",
    "lrg_north.columns\n",
    "\n",
    "\n",
    "\n",
    "\n",
    "\n",
    "lrg_table = Table.read('/Users/antonincorinaldi/Documents/stage césure/data/DESI/LRG_SGC_clustering.dat.fits')\n",
    "\n",
    "names = [name for name in lrg_table.colnames if len(lrg_table[name].shape) <= 1]\n",
    "filtered_tbl = lrg_table[names]\n",
    "\n",
    "lrg_south = filtered_tbl.to_pandas()\n",
    "lrg_south.columns\n",
    "\n",
    "\n",
    "\n",
    "\n",
    "\n",
    "lrg = pd.concat([lrg_north, lrg_south], ignore_index=True)\n",
    "\n",
    "table = Table.from_pandas(lrg)\n",
    "table.write('LRG_data_NGC+SGC.fits', format=\"fits\", overwrite=True)"
   ]
  },
  {
   "cell_type": "markdown",
   "id": "91374399",
   "metadata": {},
   "source": [
    "LRG : random"
   ]
  },
  {
   "cell_type": "code",
   "execution_count": null,
   "id": "50c7d28c",
   "metadata": {},
   "outputs": [],
   "source": [
    "random_lrg_table = Table.read('/Users/antonincorinaldi/Documents/stage césure/data/DESI/LRG_NGC_9_clustering.ran.fits')\n",
    "\n",
    "names = [name for name in random_lrg_table.colnames if len(random_lrg_table[name].shape) <= 1]\n",
    "filtered_tbl = random_lrg_table[names]\n",
    "\n",
    "random_lrg_north = filtered_tbl.to_pandas()\n",
    "random_lrg_north.columns\n",
    "\n",
    "\n",
    "\n",
    "\n",
    "\n",
    "random_lrg_table = Table.read('/Users/antonincorinaldi/Documents/stage césure/data/DESI/LRG_SGC_9_clustering.ran.fits')\n",
    "\n",
    "names = [name for name in random_lrg_table.colnames if len(random_lrg_table[name].shape) <= 1]\n",
    "filtered_tbl = random_lrg_table[names]\n",
    "\n",
    "random_lrg_south = filtered_tbl.to_pandas()\n",
    "random_lrg_south.columns\n",
    "\n",
    "\n",
    "\n",
    "\n",
    "\n",
    "random_lrg = pd.concat([random_lrg_north, random_lrg_south], ignore_index=True)\n",
    "\n",
    "table = Table.from_pandas(random_lrg)\n",
    "table.write('LRG_random_NGC+SGC.fits', format=\"fits\", overwrite=True)"
   ]
  },
  {
   "cell_type": "markdown",
   "id": "b7cf3012",
   "metadata": {},
   "source": [
    "ELG (Emission Line Galaxies) : data"
   ]
  },
  {
   "cell_type": "code",
   "execution_count": 7,
   "id": "41eb2944",
   "metadata": {},
   "outputs": [],
   "source": [
    "elg_table = Table.read('/Users/antonincorinaldi/Documents/stage césure/data/DESI/ELG_LOPnotqso_NGC_clustering.dat.fits')\n",
    "\n",
    "names = [name for name in elg_table.colnames if len(elg_table[name].shape) <= 1]\n",
    "filtered_tbl = elg_table[names]\n",
    "\n",
    "elg_north = filtered_tbl.to_pandas()\n",
    "elg_north.columns\n",
    "\n",
    "\n",
    "\n",
    "\n",
    "\n",
    "\n",
    "elg_table = Table.read('/Users/antonincorinaldi/Documents/stage césure/data/DESI/ELG_LOPnotqso_SGC_clustering.dat.fits')\n",
    "\n",
    "names = [name for name in elg_table.colnames if len(elg_table[name].shape) <= 1]\n",
    "filtered_tbl = elg_table[names]\n",
    "\n",
    "elg_south = filtered_tbl.to_pandas()\n",
    "elg_south.columns\n",
    "\n",
    "\n",
    "\n",
    "\n",
    "\n",
    "elg = pd.concat([elg_north, elg_south], ignore_index=True)\n",
    "\n",
    "table = Table.from_pandas(elg)\n",
    "table.write('ELG_data_NGC+SGC.fits', format=\"fits\", overwrite=True)"
   ]
  },
  {
   "cell_type": "markdown",
   "id": "2d6ac9c7",
   "metadata": {},
   "source": [
    "ELG : random"
   ]
  },
  {
   "cell_type": "code",
   "execution_count": 8,
   "id": "7ce88fdf",
   "metadata": {},
   "outputs": [],
   "source": [
    "random_elg_table = Table.read('/Users/antonincorinaldi/Documents/stage césure/data/DESI/ELG_LOPnotqso_NGC_9_clustering.ran.fits')\n",
    "\n",
    "names = [name for name in random_elg_table.colnames if len(random_elg_table[name].shape) <= 1]\n",
    "filtered_tbl = random_elg_table[names]\n",
    "\n",
    "random_elg_north = filtered_tbl.to_pandas()\n",
    "random_elg_north.columns\n",
    "\n",
    "\n",
    "\n",
    "\n",
    "\n",
    "\n",
    "random_elg_table = Table.read('/Users/antonincorinaldi/Documents/stage césure/data/DESI/ELG_LOPnotqso_SGC_9_clustering.ran.fits')\n",
    "\n",
    "names = [name for name in random_elg_table.colnames if len(random_elg_table[name].shape) <= 1]\n",
    "filtered_tbl = random_elg_table[names]\n",
    "\n",
    "random_elg_south = filtered_tbl.to_pandas()\n",
    "random_elg_south.columns\n",
    "\n",
    "\n",
    "\n",
    "\n",
    "\n",
    "random_elg = pd.concat([random_elg_north, random_elg_south], ignore_index=True)\n",
    "\n",
    "table = Table.from_pandas(random_elg)\n",
    "table.write('ELG_random_NGC+SGC.fits', format=\"fits\", overwrite=True)"
   ]
  },
  {
   "cell_type": "markdown",
   "id": "58800a53",
   "metadata": {},
   "source": [
    "BGS (Bright Galaxy Survey) : data"
   ]
  },
  {
   "cell_type": "code",
   "execution_count": null,
   "id": "6ef0ca46",
   "metadata": {},
   "outputs": [],
   "source": [
    "bgs_table = Table.read('/Users/antonincorinaldi/Documents/stage césure/data/DESI/BGS_ANY_NGC_clustering.dat.fits')\n",
    "\n",
    "names = [name for name in bgs_table.colnames if len(bgs_table[name].shape) <= 1]\n",
    "filtered_tbl = bgs_table[names]\n",
    "\n",
    "bgs_north= filtered_tbl.to_pandas()\n",
    "bgs_north.columns\n",
    "\n",
    "\n",
    "\n",
    "\n",
    "bgs_table = Table.read('/Users/antonincorinaldi/Documents/stage césure/data/DESI/BGS_ANY_SGC_clustering.dat.fits')\n",
    "\n",
    "names = [name for name in bgs_table.colnames if len(bgs_table[name].shape) <= 1]\n",
    "filtered_tbl = bgs_table[names]\n",
    "\n",
    "bgs_south= filtered_tbl.to_pandas()\n",
    "bgs_south.columns\n",
    "\n",
    "\n",
    "\n",
    "\n",
    "\n",
    "bgs = pd.concat([bgs_north, bgs_south], ignore_index=True)\n",
    "\n",
    "table = Table.from_pandas(bgs)\n",
    "table.write('BGS_data_NGC+SGC.fits', format=\"fits\", overwrite=True)"
   ]
  },
  {
   "cell_type": "markdown",
   "id": "d254648e",
   "metadata": {},
   "source": [
    "BGS : random"
   ]
  },
  {
   "cell_type": "code",
   "execution_count": null,
   "id": "d01c2128",
   "metadata": {},
   "outputs": [],
   "source": [
    "random_bgs_table = Table.read('/Users/antonincorinaldi/Documents/stage césure/data/DESI/BGS_ANY_NGC_9_clustering.ran.fits')\n",
    "\n",
    "names = [name for name in random_bgs_table.colnames if len(random_bgs_table[name].shape) <= 1]\n",
    "filtered_tbl = random_bgs_table[names]\n",
    "\n",
    "random_bgs_north= filtered_tbl.to_pandas()\n",
    "random_bgs_north.columns\n",
    "\n",
    "\n",
    "\n",
    "\n",
    "random_bgs_table = Table.read('/Users/antonincorinaldi/Documents/stage césure/data/DESI/BGS_ANY_SGC_9_clustering.ran.fits')\n",
    "\n",
    "names = [name for name in random_bgs_table.colnames if len(random_bgs_table[name].shape) <= 1]\n",
    "filtered_tbl = random_bgs_table[names]\n",
    "\n",
    "random_bgs_south= filtered_tbl.to_pandas()\n",
    "random_bgs_south.columns\n",
    "\n",
    "\n",
    "\n",
    "\n",
    "\n",
    "random_bgs = pd.concat([random_bgs_north, random_bgs_south], ignore_index=True)\n",
    "\n",
    "table = Table.from_pandas(bgs)\n",
    "table.write('BGS_random_NGC+SGC.fits', format=\"fits\", overwrite=True)"
   ]
  },
  {
   "cell_type": "markdown",
   "id": "9c8d7933",
   "metadata": {},
   "source": [
    "### UNIONS survey"
   ]
  },
  {
   "cell_type": "markdown",
   "id": "2a1844e1",
   "metadata": {},
   "source": [
    "UNIONS shape catalogue"
   ]
  },
  {
   "cell_type": "code",
   "execution_count": 9,
   "id": "c897446f",
   "metadata": {},
   "outputs": [],
   "source": [
    "with fits.open('/Users/antonincorinaldi/Documents/stage césure/data/UNIONS/unions_shapepipe_cut_struc_2024_v1.5.4.fits', memmap=True,ignore_missing_simple=True) as hdul:\n",
    "    data = hdul[1].data\n",
    "    selected_columns = ['RA', 'Dec', 'e1', 'e2', 'w_iv']\n",
    "    unions = pd.DataFrame({col: data[col].byteswap().newbyteorder() for col in selected_columns})"
   ]
  },
  {
   "cell_type": "markdown",
   "id": "18aa0368",
   "metadata": {},
   "source": [
    "### Matching procedure"
   ]
  },
  {
   "cell_type": "markdown",
   "id": "81c5db60",
   "metadata": {},
   "source": [
    "UNIONS-CMASS data"
   ]
  },
  {
   "cell_type": "code",
   "execution_count": 7,
   "id": "51060bbb-96ec-4bce-a04a-3464e5b3e196",
   "metadata": {
    "editable": true,
    "slideshow": {
     "slide_type": ""
    },
    "tags": []
   },
   "outputs": [],
   "source": [
    "cat_unions = SkyCoord(ra= unions['RA'], dec=unions['Dec'],unit='deg')\n",
    "cat_cmass = SkyCoord(ra=cmass['RA'] , dec=cmass['DEC'] , unit='deg')\n",
    "\n",
    "\n",
    "# Matching\n",
    "idx, d2d, d3d = match_coordinates_sky(cat_unions, cat_cmass)\n",
    "\n",
    "\n",
    "# UNIONS-CMASS (Tolerance of 1'')\n",
    "unions_cmass_cross = unions.loc[d2d.value < 0.00028]\n",
    "\n",
    "table = Table.from_pandas(unions_cmass_cross)\n",
    "table.write('unions_cmass_cross.fits', format=\"fits\", overwrite=True)\n",
    "\n",
    "\n",
    "\n",
    "# CMASS-UNIONS (to have the redshift associated to each UNIONS shape)\n",
    "idx2 = idx[d2d.value < 0.00028]\n",
    "unions_cmass_crossZ = cmass.loc[idx2]\n",
    "\n",
    "table = Table.from_pandas(unions_cmass_crossZ)\n",
    "table.write('unions_cmass_crossZ.fits', format=\"fits\", overwrite=True)\n",
    "\n",
    "\n",
    "\n",
    "# Number of matched objects\n",
    "nb_unions_cmass = len(unions_cmass_cross)"
   ]
  },
  {
   "cell_type": "markdown",
   "id": "8b27b3e6",
   "metadata": {},
   "source": [
    "UNIONS-LRG data"
   ]
  },
  {
   "cell_type": "code",
   "execution_count": null,
   "id": "579ae4af",
   "metadata": {},
   "outputs": [],
   "source": [
    "cat_unions = SkyCoord(ra= unions['RA'], dec=unions['Dec'],unit='deg')\n",
    "cat_lrg = SkyCoord(ra=lrg['RA'] , dec=lrg['DEC'] , unit='deg')\n",
    "idx, d2d, d3d = match_coordinates_sky(cat_unions, cat_lrg)\n",
    "\n",
    "unions_lrg_cross = unions.loc[d2d.value < 0.00028]\n",
    "\n",
    "table = Table.from_pandas(unions_lrg_cross)\n",
    "table.write('unions_lrg_cross.fits', format=\"fits\", overwrite=True)\n",
    "\n",
    "\n",
    "idx2 = idx[d2d.value < 0.00028]\n",
    "unions_lrg_crossZ = lrg.loc[idx2]\n",
    "\n",
    "table = Table.from_pandas(unions_lrg_crossZ)\n",
    "table.write('unions_lrg_crossZ.fits', format=\"fits\", overwrite=True)\n",
    "\n",
    "\n",
    "\n",
    "nb_unions_lrg = len(unions_lrg_cross)"
   ]
  },
  {
   "cell_type": "markdown",
   "id": "dc239206",
   "metadata": {},
   "source": [
    "UNIONS-ELG data"
   ]
  },
  {
   "cell_type": "code",
   "execution_count": null,
   "id": "209874c3",
   "metadata": {},
   "outputs": [],
   "source": [
    "cat_unions = SkyCoord(ra= unions['RA'], dec=unions['Dec'],unit='deg')\n",
    "cat_elg = SkyCoord(ra=elg['RA'] , dec=elg['DEC'] , unit='deg')\n",
    "idx, d2d, d3d = match_coordinates_sky(cat_unions, cat_elg)\n",
    "\n",
    "unions_elg_cross = unions.loc[d2d.value < 0.00028]\n",
    "\n",
    "\n",
    "table = Table.from_pandas(unions_elg_cross)\n",
    "table.write('unions_elg_cross.fits', format=\"fits\", overwrite=True)\n",
    "\n",
    "\n",
    "\n",
    "\n",
    "idx2 = idx[d2d.value < 0.00028]\n",
    "unions_elg_crossZ = elg.loc[idx2]\n",
    "\n",
    "table = Table.from_pandas(unions_elg_crossZ)\n",
    "table.write('unions_elg_crossZ.fits', format=\"fits\", overwrite=True)\n",
    "\n",
    "\n",
    "\n",
    "nb_unions_elg = len(unions_elg_cross)"
   ]
  },
  {
   "cell_type": "markdown",
   "id": "b28cffe2",
   "metadata": {},
   "source": [
    "UNIONS-BGS data"
   ]
  },
  {
   "cell_type": "markdown",
   "id": "445bc156",
   "metadata": {},
   "source": [
    "cat_unions = SkyCoord(ra= unions['RA'], dec=unions['Dec'],unit='deg')\n",
    "cat_bgs = SkyCoord(ra=bgs['RA'] , dec=bgs['DEC'] , unit='deg')\n",
    "idx, d2d, d3d = match_coordinates_sky(cat_unions, cat_bgs)\n",
    "\n",
    "unions_bgs_cross = unions.loc[d2d.value < 0.00028]\n",
    "\n",
    "table = Table.from_pandas(unions_bgs_cross)\n",
    "table.write(\"unions_bgs_cross.fits\", format=\"fits\", overwrite=True)\n",
    "\n",
    "\n",
    "\n",
    "idx2 = idx[d2d.value < 0.00028]\n",
    "unions_bgs_crossZ = bgs.loc[idx2]\n",
    "\n",
    "table = Table.from_pandas(unions_bgs_crossZ)\n",
    "table.write(\"unions_bgs_crossZ.fits\", format=\"fits\", overwrite=True)\n",
    "\n",
    "\n",
    "\n",
    "nb_unions_bgs = len(unions_bgs_cross)"
   ]
  }
 ],
 "metadata": {
  "kernelspec": {
   "display_name": "Python 3",
   "language": "python",
   "name": "python3"
  },
  "language_info": {
   "codemirror_mode": {
    "name": "ipython",
    "version": 3
   },
   "file_extension": ".py",
   "mimetype": "text/x-python",
   "name": "python",
   "nbconvert_exporter": "python",
   "pygments_lexer": "ipython3",
   "version": "3.12.5"
  }
 },
 "nbformat": 4,
 "nbformat_minor": 5
}
