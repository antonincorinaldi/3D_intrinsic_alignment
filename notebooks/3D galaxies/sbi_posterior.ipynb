{
 "cells": [
  {
   "cell_type": "markdown",
   "id": "988c12c1",
   "metadata": {},
   "source": [
    "This notebook allows to load the posterior used to compute summary statistics of galaxy surveys (in 3D_galaxies.ipynb)"
   ]
  },
  {
   "cell_type": "code",
   "execution_count": 1,
   "id": "3fe0bc20-bd46-40a8-9a05-27b552954950",
   "metadata": {},
   "outputs": [
    {
     "name": "stderr",
     "output_type": "stream",
     "text": [
      "/opt/homebrew/lib/python3.12/site-packages/tqdm/auto.py:21: TqdmWarning: IProgress not found. Please update jupyter and ipywidgets. See https://ipywidgets.readthedocs.io/en/stable/user_install.html\n",
      "  from .autonotebook import tqdm as notebook_tqdm\n"
     ]
    }
   ],
   "source": [
    "import numpy as np\n",
    "import matplotlib.pyplot as plt\n",
    "import pandas as pd\n",
    "from scipy import linalg\n",
    "\n",
    "from astropy.io import fits\n",
    "from astropy.table import Table\n",
    "from astropy.cosmology import FlatLambdaCDM\n",
    "\n",
    "from astropy.coordinates import SkyCoord, match_coordinates_sky\n",
    "from astropy.coordinates import concatenate\n",
    "from astropy import units as u\n",
    "\n",
    "from matplotlib.patches import Ellipse\n",
    "from scipy.spatial.transform import Rotation\n",
    "\n",
    "import treecorr\n",
    "import random\n",
    "\n",
    "import torch\n",
    "from torch.distributions import Uniform\n",
    "\n",
    "from sbi.utils import BoxUniform\n",
    "from sbi.analysis import pairplot\n",
    "from sbi.inference import NPE, SNPE, simulate_for_sbi, infer\n",
    "from sbi.utils.user_input_checks import (\n",
    "    check_sbi_inputs,\n",
    "    process_prior,\n",
    "    process_simulator,\n",
    "    prepare_for_sbi\n",
    ")\n",
    "\n",
    "import corner"
   ]
  },
  {
   "cell_type": "code",
   "execution_count": 2,
   "id": "3ea31cf8",
   "metadata": {},
   "outputs": [],
   "source": [
    "# Number of galaxies considered\n",
    "\n",
    "nbre_galaxies = 250_000"
   ]
  },
  {
   "cell_type": "markdown",
   "id": "13c3f3d7",
   "metadata": {},
   "source": [
    "### Model : 3D gaussian population of galaxies"
   ]
  },
  {
   "cell_type": "markdown",
   "id": "8e1b5390",
   "metadata": {},
   "source": [
    "- Parameters : $\\theta = \\{\\mu_B, \\mu_C, \\sigma_B, \\sigma_C, r\\}$"
   ]
  },
  {
   "cell_type": "code",
   "execution_count": 3,
   "id": "ca40b84a",
   "metadata": {},
   "outputs": [],
   "source": [
    "def population_3D (mu_B, mu_C, sigma_B, sigma_C, r, nb_galaxies) : \n",
    "    \n",
    "    # EIGENVALUES\n",
    "    A=1\n",
    "    \n",
    "    # Random gaussian draw to obtain the axis lengths B,C (= eigenvalues)\n",
    "    BC2 = np.empty((0, 2))\n",
    "    while len(BC2) < nb_galaxies:\n",
    "        BC = np.random.multivariate_normal(mean=[mu_B, mu_C], cov=[[sigma_B**2, r*sigma_B*sigma_C], [r*sigma_B*sigma_C, sigma_C**2]], size=nb_galaxies)\n",
    "    \n",
    "        # Priors : B/A<1 ; C/A<1 ; C<B ; C>0 ; B>0\n",
    "        mask = (BC[:,0]/A<=1) & (BC[:,1]/ A<=1) & (BC[:,0] >= BC[:,1]) & (BC[:,0]>0) & (BC[:,1]>0)\n",
    "        BC_valid = BC[mask]\n",
    "\n",
    "        BC2 = np.concatenate((BC2, BC_valid), axis=0)\n",
    "    \n",
    "    BC2 = BC2[:nb_galaxies]\n",
    "    B, C = BC2[:, 0], BC2[:, 1]\n",
    "\n",
    "    A=np.ones(nb_galaxies)\n",
    "\n",
    "    evls = np.array([A,B,C])**2 ; evls=np.transpose(evls) # eigenvalues\n",
    "\n",
    "\n",
    "\n",
    "    # EIGENVECTORS\n",
    "\n",
    "    # Random orientation angles (quaternions)\n",
    "    rand_quat = np.random.randn(nb_galaxies,4) ; rand_quat /= np.linalg.norm(rand_quat, axis=1, keepdims=True)\n",
    "    rotation = Rotation.from_quat(rand_quat) ; euler_angles = rotation.as_euler('ZYX', degrees=True)\n",
    "    euler_angles_rad = euler_angles*np.pi/180\n",
    "    psi, theta, phi = euler_angles_rad[:,0], euler_angles_rad[:,1], euler_angles_rad[:,2]\n",
    "\n",
    "    \n",
    "    # Rotation matrix that relates the eigenvectors (X,Y,Z) of the galaxies to a frame of reference (x,y,z)\n",
    "    D = np.zeros((nb_galaxies, 3, 3))\n",
    "\n",
    "    D[:, 0, 0] = np.cos(theta) * np.cos(psi)\n",
    "    D[:, 0, 1] = -np.cos(phi) * np.sin(psi) + np.sin(phi) * np.sin(theta) * np.cos(psi)\n",
    "    D[:, 0, 2] = np.sin(phi) * np.sin(psi) + np.cos(phi) * np.sin(theta) * np.cos(psi)\n",
    "\n",
    "    D[:, 1, 0] = np.cos(theta) * np.sin(psi)\n",
    "    D[:, 1, 1] = np.cos(phi) * np.cos(psi) + np.sin(phi) * np.sin(theta) * np.sin(psi)\n",
    "    D[:, 1, 2] = -np.sin(phi) * np.cos(psi) + np.cos(phi) * np.sin(theta) * np.sin(psi)\n",
    "\n",
    "    D[:, 2, 0] = -np.sin(theta)\n",
    "    D[:, 2, 1] = np.sin(phi) * np.cos(theta)\n",
    "    D[:, 2, 2] = np.cos(phi) * np.cos(theta)\n",
    "\n",
    "    \n",
    "    evc0 = np.asarray([[1,0,0],[0,1,0],[0,0,1]]) # Frame of reference (x,y,z)\n",
    "    evcl = np.einsum('ijk,kl->ijl', D, evc0) # eigenvectors (X,Y,Z)\n",
    "\n",
    "    return evcl, evls"
   ]
  },
  {
   "cell_type": "markdown",
   "id": "14d04228",
   "metadata": {},
   "source": [
    "### Priors for the parameters"
   ]
  },
  {
   "cell_type": "code",
   "execution_count": 4,
   "id": "e263bc34",
   "metadata": {},
   "outputs": [],
   "source": [
    "class CustomPrior(torch.nn.Module):\n",
    "    \n",
    "    def __init__(self):\n",
    "        super().__init__()\n",
    "        # Define uniform priors for the parameters\n",
    "        self.prior_uniform = BoxUniform(\n",
    "            low=torch.tensor( [0.0,  0., 0, 0, -0.8]), # for (mu_B, mu_C, sigma_B, sigma_C, r)\n",
    "            high=torch.tensor([1.0,  1., 1, 1, 0.8])\n",
    "        )\n",
    "    \n",
    "    def log_prob(self, x):\n",
    "        # Check the constraint mu_B > mu_C\n",
    "        muB_minus_muC = x[..., 1] - x[..., 0]  # assuming mu_B is at index 0 and mu_C at index 1\n",
    "        mask = ( muB_minus_muC > 0 )\n",
    "        return torch.where(mask, self.prior_uniform.log_prob(x), torch.tensor(-float('inf')))\n",
    "    \n",
    "\n",
    "    def sample(self, sample_shape=torch.Size()):\n",
    "        if len(sample_shape) == 0:\n",
    "            sample_shape = torch.Size([1])  # Default to a single sample if sample_shape is empty\n",
    "            \n",
    "        samples = []\n",
    "        while len(samples) < sample_shape[0]:\n",
    "            sample = self.prior_uniform.sample((1,))\n",
    "            if ( -sample[..., 0] + sample[..., 1]).lt(0):  # this checks if it is less than zero, so I switched it around\n",
    "                samples.append(sample)\n",
    "                \n",
    "        return torch.cat(samples, dim=0)\n",
    "\n",
    "# Instantiate the custom prior\n",
    "prior = CustomPrior()"
   ]
  },
  {
   "cell_type": "code",
   "execution_count": 7,
   "id": "69c54efa",
   "metadata": {},
   "outputs": [],
   "source": [
    "# Function required for further work\n",
    "\n",
    "def e_complex(a,b,r):\n",
    "        abs_e = (1-(b/a)) / (1+(b/a))\n",
    "        e1 = abs_e*np.cos(2*r)\n",
    "        e2 = abs_e*np.sin(2*r)\n",
    "        return e1, e2"
   ]
  },
  {
   "cell_type": "markdown",
   "id": "f8e0388b",
   "metadata": {},
   "source": [
    "### Simulator to project the 3D galaxies in 2D"
   ]
  },
  {
   "cell_type": "code",
   "execution_count": 6,
   "id": "64768a9e",
   "metadata": {},
   "outputs": [],
   "source": [
    "# SIMULATOR (for simulation-based inference): projection of the 3D galaxies in 2D along the line-of-sight ('y')\n",
    "# Output = summary statistics = P(e)\n",
    "\n",
    "\n",
    "def simulator(theta, # The parameters of the 3D model (mu_B, mu_C, sigma_B, sigma_C, r)\n",
    "               nb_galaxies=nbre_galaxies, # The number of galaxies\n",
    "               p_axis='y', # The direction of projection (here 'y' denotes by convention the direction of the line-of-sight)\n",
    "               A=1, # The major axis of the galaxies, fixed to 1 in the analysis\n",
    "               e_bins=np.linspace(0,1,50) # Bins for the histogram of e_counts (output)\n",
    "               ):\n",
    "\n",
    "\n",
    "    mu_B, mu_C, sigma_B, sigma_C, r = theta\n",
    "    \n",
    "\n",
    "    #Eigenvectors and eigenvalues\n",
    "    evcl, evls = population_3D (mu_B, mu_C, sigma_B, sigma_C, r, nb_galaxies)\n",
    "    \n",
    "\n",
    "    # Projection 3D => 2D\n",
    "    if p_axis=='x': # Projection perpendicular to the LOS\n",
    "        K = np.sum(evcl[:,:,0][:,:,None]*(evcl/evls[:,None]), axis=1)\n",
    "        r = evcl[:,:,2] - evcl[:,:,0] * K[:,2][:,None] / K[:,0][:,None]\n",
    "        s = evcl[:,:,1] - evcl[:,:,0] * K[:,1][:,None] / K[:,0][:,None] \n",
    "\n",
    "    if p_axis=='y': # Projection along the LOS\n",
    "        K = np.sum(evcl[:,:,1][:,:,None] * (evcl/evls[:,None]), axis=1)\n",
    "        r = evcl[:,:,0] - evcl[:,:,1] * K[:,0][:,None] / K[:,1][:,None]\n",
    "        s = evcl[:,:,2] - evcl[:,:,1] * K[:,2][:,None] / K[:,1][:,None]\n",
    "\n",
    "\n",
    "    # Coefficients A,B,C\n",
    "    A1 = np.sum(r**2 / evls, axis=1)\n",
    "    B1 = np.sum(2*r*s / evls, axis=1)\n",
    "    C1 = np.sum(s**2 / evls, axis=1)\n",
    "\n",
    "\n",
    "    # Axis a_p,b_p and orientation angle r_p of the projected galaxy\n",
    "    r_p = np.pi / 2 + np.arctan2(B1,A1-C1)/2\n",
    "    a_p = 1/np.sqrt((A1+C1)/2 + (A1-C1)/(2*np.cos(2*r_p)))\n",
    "    b_p = 1/np.sqrt(A1+C1-(1/a_p**2))\n",
    "\n",
    "\n",
    "    # Projected ellipticity\n",
    "    e1, e2 = e_complex(a_p, b_p, r_p) ; e = [e1,e2] ; e=np.array(e)\n",
    "\n",
    "\n",
    "    # Final output = summary statistics = P(e)\n",
    "    e_counts,_ = np.histogram(np.sqrt(e[0,:]**2+e[1,:]**2),bins=e_bins)\n",
    "    \n",
    "    \n",
    "    return e_counts/nb_galaxies"
   ]
  },
  {
   "cell_type": "markdown",
   "id": "4b730446",
   "metadata": {},
   "source": [
    "### Running the simulations"
   ]
  },
  {
   "cell_type": "code",
   "execution_count": null,
   "id": "8f5535c3",
   "metadata": {},
   "outputs": [],
   "source": [
    "# Running the simulations, training of the neural network and estimation of the posterior (NPE = Neural Posterior Estimation) \n",
    "\n",
    "posterior = infer(simulator, prior, method = 'NPE', num_simulations = 60000, num_workers = 10)"
   ]
  },
  {
   "cell_type": "markdown",
   "id": "3d505882",
   "metadata": {},
   "source": [
    "### Saving the estimated posterior"
   ]
  },
  {
   "cell_type": "code",
   "execution_count": null,
   "id": "1fb2882b",
   "metadata": {},
   "outputs": [],
   "source": [
    "torch.save(posterior, 'posterior.pt')"
   ]
  }
 ],
 "metadata": {
  "kernelspec": {
   "display_name": "Python 3",
   "language": "python",
   "name": "python3"
  },
  "language_info": {
   "codemirror_mode": {
    "name": "ipython",
    "version": 3
   },
   "file_extension": ".py",
   "mimetype": "text/x-python",
   "name": "python",
   "nbconvert_exporter": "python",
   "pygments_lexer": "ipython3",
   "version": "3.12.5"
  }
 },
 "nbformat": 4,
 "nbformat_minor": 5
}
