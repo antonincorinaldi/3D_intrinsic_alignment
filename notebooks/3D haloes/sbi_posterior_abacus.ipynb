{
 "cells": [
  {
   "cell_type": "markdown",
   "id": "ab561f94",
   "metadata": {},
   "source": [
    "This notebook allows to load the posterior used to compute summary statistics of galaxy surveys (in 3D_haloes.ipynb)"
   ]
  },
  {
   "cell_type": "code",
   "execution_count": 1,
   "id": "9935deb4",
   "metadata": {},
   "outputs": [
    {
     "name": "stderr",
     "output_type": "stream",
     "text": [
      "/opt/homebrew/lib/python3.12/site-packages/tqdm/auto.py:21: TqdmWarning: IProgress not found. Please update jupyter and ipywidgets. See https://ipywidgets.readthedocs.io/en/stable/user_install.html\n",
      "  from .autonotebook import tqdm as notebook_tqdm\n"
     ]
    }
   ],
   "source": [
    "import matplotlib.pyplot as plt\n",
    "import numpy as np\n",
    "from astropy.table import Table\n",
    "from random import *\n",
    "\n",
    "from scipy.spatial.transform import Rotation\n",
    "\n",
    "import torch\n",
    "from torch.distributions import Uniform\n",
    "\n",
    "from sbi.utils import BoxUniform\n",
    "from sbi.analysis import pairplot\n",
    "from sbi.inference import NPE, SNPE, simulate_for_sbi, infer\n",
    "from sbi.utils.user_input_checks import (\n",
    "    check_sbi_inputs,\n",
    "    process_prior,\n",
    "    process_simulator,\n",
    "    prepare_for_sbi\n",
    ")\n",
    "\n",
    "import corner\n",
    "\n",
    "from astropy.io import fits"
   ]
  },
  {
   "cell_type": "markdown",
   "id": "97353707",
   "metadata": {},
   "source": [
    "### Downloading the Abacus haloes (z=0.725)"
   ]
  },
  {
   "cell_type": "code",
   "execution_count": 7,
   "id": "0a58abc0",
   "metadata": {},
   "outputs": [],
   "source": [
    "nb_haloes=25_000\n",
    "\n",
    "\n",
    "haloes_table1 = Table.read('haloes_abacus.fits')\n",
    "haloes_table1 = haloes_table1[:nb_haloes]"
   ]
  },
  {
   "cell_type": "markdown",
   "id": "95003cf9",
   "metadata": {},
   "source": [
    "### Some functions required for further work..."
   ]
  },
  {
   "cell_type": "markdown",
   "id": "538afa38",
   "metadata": {},
   "source": [
    "- ...to compute ellipticities"
   ]
  },
  {
   "cell_type": "code",
   "execution_count": 11,
   "id": "0346d02c",
   "metadata": {},
   "outputs": [],
   "source": [
    "def get_galaxy_orientation_angle(e1,e2):\n",
    "    return 0.5*np.arctan2(e2,e1)\n",
    "\n",
    "def e_complex(a,b,r):\n",
    "    abs_e = (1-(b/a)) / (1+(b/a))\n",
    "    e1 = abs_e*np.cos(2*r)\n",
    "    e2 = abs_e*np.sin(2*r)\n",
    "    return e1, e2\n",
    "\n",
    "def abs_e(e1,e2):\n",
    "    return np.sqrt(e1*e1+e2*e2)\n",
    "\n",
    "def a_b(e1,e2):\n",
    "    e = abs_e(e1,e2)\n",
    "    return 1+e,1-e "
   ]
  },
  {
   "cell_type": "markdown",
   "id": "cb6700a2",
   "metadata": {},
   "source": [
    "- ...to format ellipsoidal haloes to match Abacus"
   ]
  },
  {
   "cell_type": "code",
   "execution_count": 12,
   "id": "7ff0b32e",
   "metadata": {},
   "outputs": [],
   "source": [
    "def format_ellipsoid(eigenvectors, eigenvalues, position = np.asarray([0,0,0])):\n",
    "    '''\n",
    "    Formatt ellipsoid parameters to match Abacus. \n",
    "    Eigenvectors and values must be in order of least to greatest\n",
    "    '''\n",
    "    el = Table()\n",
    "    el['sigman_eigenvecsMin_L2com'] = eigenvectors[0]\n",
    "    el['sigman_eigenvecsMid_L2com'] = eigenvectors[1]\n",
    "    el['sigman_eigenvecsMaj_L2com'] = eigenvectors[2]\n",
    "    \n",
    "    el['sigman_L2com'] = np.sqrt(eigenvalues)\n",
    "    el['sigma_L2com'] = position\n",
    "    \n",
    "    return el"
   ]
  },
  {
   "cell_type": "markdown",
   "id": "87011ffa",
   "metadata": {},
   "source": [
    "### Model : 3D galaxies populating haloes"
   ]
  },
  {
   "cell_type": "markdown",
   "id": "4c928e64",
   "metadata": {},
   "source": [
    "- Parameters : $\\theta = \\{\\mu_{\\tau_B}, \\mu_{\\tau_C}, \\sigma_{\\tau_B}, \\sigma_{\\tau_C}, r_\\tau\\}$"
   ]
  },
  {
   "cell_type": "code",
   "execution_count": 14,
   "id": "29be2195",
   "metadata": {},
   "outputs": [],
   "source": [
    "def population_3D (tau_B, tau_C, sigma_tau_B, sigma_tau_C, r_tau, el=haloes_table1, nb_haloes=nb_haloes) : \n",
    "\n",
    "    haloes_table2 = el.copy()\n",
    "    eigenvalues_orig = np.array(haloes_table2['sigman_L2com'])\n",
    "\n",
    "    valid_eigenvalues = []\n",
    "\n",
    "\n",
    "    while len(valid_eigenvalues) < nb_haloes:\n",
    "    \n",
    "        taus = np.random.multivariate_normal(mean=[tau_B, tau_C], cov=[[sigma_tau_B**2, r_tau * sigma_tau_B * sigma_tau_C],[r_tau * sigma_tau_B * sigma_tau_C, sigma_tau_C**2]],size=nb_haloes)\n",
    "    \n",
    "        tau_B2 = np.clip(taus[:, 0], 0, 1)\n",
    "        tau_C2 = np.clip(taus[:, 1], 0, 1)\n",
    "\n",
    "        eigenvalues = eigenvalues_orig.copy()\n",
    "        eigenvalues[:, 1] *= tau_B2\n",
    "        eigenvalues[:, 2] *= tau_C2\n",
    "\n",
    "        Ag, Bg, Cg = eigenvalues[:, 0], eigenvalues[:, 1], eigenvalues[:, 2]\n",
    "        mask = (Bg / Ag <= 1) & (Cg / Ag <= 1) & (Bg >= Cg) & (Bg > 0) & (Cg > 0)\n",
    "        filtered = eigenvalues[mask]\n",
    "\n",
    "        to_add = min(nb_haloes - len(valid_eigenvalues), filtered.shape[0])\n",
    "        valid_eigenvalues.extend(filtered[:to_add])\n",
    "\n",
    "\n",
    "    eigenvalues = np.array(valid_eigenvalues) \n",
    "   \n",
    "    \n",
    "    eigenvecs_Min = haloes_table2['sigman_eigenvecsMin_L2com'][:len(eigenvalues)]\n",
    "    eigenvecs_Mid = haloes_table2['sigman_eigenvecsMid_L2com'][:len(eigenvalues)]\n",
    "    eigenvecs_Max = haloes_table2['sigman_eigenvecsMaj_L2com'][:len(eigenvalues)]\n",
    "\n",
    "    eigenvectors = np.stack((eigenvecs_Min, eigenvecs_Mid, eigenvecs_Max), axis=1)\n",
    "\n",
    "    ellipses = np.array([format_ellipsoid(eigenvectors[i, :, :], eigenvalues[i, :]) for i in range(nb_haloes)])\n",
    "    ellipses = np.array(ellipses)\n",
    "\n",
    "    evcl = np.array([ellipses['sigman_eigenvecsMaj_L2com'], ellipses['sigman_eigenvecsMid_L2com'], ellipses['sigman_eigenvecsMin_L2com']])\n",
    "    evcl=np.transpose(evcl, (1, 0, 2))\n",
    "    evls = ellipses['sigman_L2com']**2 \n",
    "\n",
    "    \n",
    "    return evcl, evls"
   ]
  },
  {
   "cell_type": "markdown",
   "id": "a3c7d409",
   "metadata": {},
   "source": [
    "### Simulator to project 3D galaxies and their host-haloes in 2D"
   ]
  },
  {
   "cell_type": "code",
   "execution_count": 15,
   "id": "70513158",
   "metadata": {},
   "outputs": [],
   "source": [
    "# SIMULATOR (for simulation-based inference): projection of the 3D galaxies-halos in 2D along the line-of-sight ('y')\n",
    "# Output = summary statistics = P(e)\n",
    "\n",
    "\n",
    "def simulator(theta, \n",
    "                el=haloes_table1,\n",
    "                nb_haloes=nb_haloes, \n",
    "                p_axis='y', # The direction of projection (here 'y' denotes by convention the direction of the line-of-sight)\n",
    "                e_bins=np.linspace(0,1,100) # The number of bins for the histogram of e_counts (output)\n",
    "               ):\n",
    "\n",
    "    tau_B, tau_C, sigma_tau_B, sigma_tau_C, r_tau = theta\n",
    "\n",
    "    evcl, evls = population_3D (tau_B, tau_C, sigma_tau_B, sigma_tau_C, r_tau, el, nb_haloes)\n",
    "    \n",
    "\n",
    "    # Projection 3D => 2D\n",
    "    if p_axis=='x': # Projection perpendicular to the LOS\n",
    "        K = np.sum(evcl[:,:,0][:,:,None]*(evcl/evls[:,None]), axis=1)\n",
    "        r = evcl[:,:,2] - evcl[:,:,0] * K[:,2][:,None] / K[:,0][:,None]\n",
    "        s = evcl[:,:,1] - evcl[:,:,0] * K[:,1][:,None] / K[:,0][:,None] \n",
    "\n",
    "    if p_axis=='y': # Projection along the LOS\n",
    "        K = np.sum(evcl[:,:,1][:,:,None] * (evcl/evls[:,None]), axis=1)\n",
    "        r = evcl[:,:,0] - evcl[:,:,1] * K[:,0][:,None] / K[:,1][:,None]\n",
    "        s = evcl[:,:,2] - evcl[:,:,1] * K[:,2][:,None] / K[:,1][:,None]\n",
    "\n",
    "\n",
    "    # Coefficients A,B,C (eq 23 of (2))\n",
    "    A1 = np.sum(r**2 / evls, axis=1)\n",
    "    B1 = np.sum(2*r*s / evls, axis=1)\n",
    "    C1 = np.sum(s**2 / evls, axis=1)\n",
    "\n",
    "\n",
    "    # Axis a_p,b_p and orientation angle r_p of the projected galaxy\n",
    "    r_p = np.pi / 2 + np.arctan2(B1,A1-C1)/2\n",
    "    a_p = 1/np.sqrt((A1+C1)/2 + (A1-C1)/(2*np.cos(2*r_p)))\n",
    "    b_p = 1/np.sqrt(A1+C1-(1/a_p**2))\n",
    "\n",
    "\n",
    "    # Projected ellipticity\n",
    "    e1, e2 = e_complex(a_p, b_p, r_p) ; e = [e1,e2] ; e=np.array(e)\n",
    "\n",
    "\n",
    "    # Final output = summary statistics = P(e)\n",
    "    e_counts,_ = np.histogram(np.sqrt(e[0,:]**2+e[1,:]**2),bins=e_bins)\n",
    "    \n",
    "\n",
    "    return e_counts/nb_haloes"
   ]
  },
  {
   "cell_type": "markdown",
   "id": "b2833e99",
   "metadata": {},
   "source": [
    "### Priors for the parameters"
   ]
  },
  {
   "cell_type": "code",
   "execution_count": 17,
   "id": "5f21d0ea",
   "metadata": {},
   "outputs": [],
   "source": [
    "class CustomPrior(torch.nn.Module):\n",
    "    def __init__(self):\n",
    "        super().__init__()\n",
    "        # Define uniform priors for the parameters\n",
    "        self.prior_uniform = BoxUniform(\n",
    "            low=torch.tensor( [0, 0.0, 0, 0, -0.8]), \n",
    "            high=torch.tensor([1, 1.0, 1, 1, 0.8])\n",
    "        )\n",
    "    \n",
    "    def log_prob(self, x):\n",
    "        # Check the constraint mu_tau_B > mu_tau_C\n",
    "        mutauB_minus_mutauC = x[..., 1] - x[..., 0]  # assuming mu_tauB is at index 0 and mu_C at index 1\n",
    "        mask = ( mutauB_minus_mutauC > 0 )\n",
    "        return torch.where(mask, self.prior_uniform.log_prob(x), torch.tensor(-float('inf')))\n",
    "\n",
    "    \n",
    "    def sample(self, sample_shape=torch.Size()):\n",
    "        if len(sample_shape) == 0:\n",
    "            sample_shape = torch.Size([1])  # Default to a single sample if sample_shape is empty\n",
    "            \n",
    "        samples = []\n",
    "        while len(samples) < sample_shape[0]:\n",
    "            sample = self.prior_uniform.sample((1,))\n",
    "            if ( -sample[..., 0] + sample[..., 1]).lt(0):  # this checks if it is less than zero, so I switched it around\n",
    "                samples.append(sample)\n",
    "                \n",
    "        return torch.cat(samples, dim=0)\n",
    "\n",
    "# Instantiate the custom prior\n",
    "prior = CustomPrior()"
   ]
  },
  {
   "cell_type": "markdown",
   "id": "f60e949d",
   "metadata": {},
   "source": [
    "### Running the simulations"
   ]
  },
  {
   "cell_type": "code",
   "execution_count": null,
   "id": "b50faf03",
   "metadata": {},
   "outputs": [],
   "source": [
    "# Running the simulations, training of the neural network and estimation of the posterior (NPE = Neural Posterior Estimation) \n",
    "\n",
    "posterior = infer(simulator, prior, method = 'NPE', num_simulations = 60000, num_workers = 30)"
   ]
  },
  {
   "cell_type": "markdown",
   "id": "d13aa853",
   "metadata": {},
   "source": [
    "### Saving the estimated posterior"
   ]
  },
  {
   "cell_type": "code",
   "execution_count": null,
   "id": "ff9edb19",
   "metadata": {},
   "outputs": [],
   "source": [
    "torch.save(posterior,'posterior_abacus.pt')"
   ]
  }
 ],
 "metadata": {
  "kernelspec": {
   "display_name": "Python 3",
   "language": "python",
   "name": "python3"
  },
  "language_info": {
   "codemirror_mode": {
    "name": "ipython",
    "version": 3
   },
   "file_extension": ".py",
   "mimetype": "text/x-python",
   "name": "python",
   "nbconvert_exporter": "python",
   "pygments_lexer": "ipython3",
   "version": "3.12.5"
  }
 },
 "nbformat": 4,
 "nbformat_minor": 5
}
