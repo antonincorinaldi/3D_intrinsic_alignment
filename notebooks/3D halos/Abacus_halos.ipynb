{
 "cells": [
  {
   "cell_type": "markdown",
   "id": "2ea3582d-0b74-462f-b7e9-13aceda2d452",
   "metadata": {},
   "source": [
    "# Notebook to extract halos in the Abacus halo catalogs"
   ]
  },
  {
   "cell_type": "code",
   "execution_count": 2,
   "id": "4bada36f-e2f2-485b-a5b8-c75394d85c2d",
   "metadata": {
    "tags": [],
    "trusted": true
   },
   "outputs": [],
   "source": [
    "from abacusnbody.data.compaso_halo_catalog import CompaSOHaloCatalog\n",
    "import matplotlib.pyplot as plt\n",
    "from astropy.table import Table"
   ]
  },
  {
   "cell_type": "markdown",
   "id": "e8625050",
   "metadata": {},
   "source": [
    "### Selecting every masses of the halos by snapshot of redshift"
   ]
  },
  {
   "cell_type": "markdown",
   "id": "18763fa7",
   "metadata": {},
   "source": [
    "Box of AbacusSummit N-body simulation of size 2 Gpc at snpashot z=0.100"
   ]
  },
  {
   "cell_type": "code",
   "execution_count": 2,
   "id": "792f6ffd-85e8-4597-ab02-f362ca702d0a",
   "metadata": {
    "trusted": true
   },
   "outputs": [],
   "source": [
    "# Loading the halo catalog\n",
    "cat = CompaSOHaloCatalog(\n",
    "        '/home/jovyan/AbacusSummit/AbacusSummit_base_c000_ph000/halos/z0.100',\n",
    "\n",
    "        # Selection of the 3D positions, shapes and orientations of the halos\n",
    "        fields=['x_L2com', 'sigman_L2com','sigman_eigenvecsMin_L2com','sigman_eigenvecsMid_L2com','sigman_eigenvecsMaj_L2com']\n",
    ")\n",
    "\n",
    "# Selection of 1 000 000 halos in the catalog\n",
    "halos = cat.halos[:1_000_000]\n",
    "\n",
    "\n",
    "# Writing the halo catalog in a fits file\n",
    "table = Table(halos)\n",
    "table.meta.clear()\n",
    "\n",
    "table.write('Abacus_halos_z0.100.fits', format='fits', overwrite=True)\n"
   ]
  },
  {
   "cell_type": "markdown",
   "id": "188ea584",
   "metadata": {},
   "source": [
    "Snapshot z=0.150"
   ]
  },
  {
   "cell_type": "code",
   "execution_count": 2,
   "id": "d9c8a611-6661-40a0-99a8-3bda46b5ad74",
   "metadata": {
    "trusted": true
   },
   "outputs": [],
   "source": [
    "cat = CompaSOHaloCatalog(\n",
    "        '/home/jovyan/AbacusSummit/AbacusSummit_base_c000_ph000/halos/z0.150',\n",
    "\n",
    "        fields=['x_L2com', 'sigman_L2com','sigman_eigenvecsMin_L2com','sigman_eigenvecsMid_L2com','sigman_eigenvecsMaj_L2com']\n",
    ")\n",
    "\n",
    "halos = cat.halos[:1_000_000]\n",
    "\n",
    "table = Table(halos)\n",
    "table.meta.clear()\n",
    "\n",
    "table.write('Abacus_halos_z0.150.fits', format='fits', overwrite=True)"
   ]
  },
  {
   "cell_type": "markdown",
   "id": "eba6a13b",
   "metadata": {},
   "source": [
    "Snapshot z=0.200"
   ]
  },
  {
   "cell_type": "code",
   "execution_count": 5,
   "id": "d95802a1-5503-4bc9-9a66-b3312207172e",
   "metadata": {
    "trusted": true
   },
   "outputs": [],
   "source": [
    "cat = CompaSOHaloCatalog(\n",
    "        '/home/jovyan/AbacusSummit/AbacusSummit_base_c000_ph000/halos/z0.200',\n",
    "\n",
    "        fields=['x_L2com', 'sigman_L2com','sigman_eigenvecsMin_L2com','sigman_eigenvecsMid_L2com','sigman_eigenvecsMaj_L2com']\n",
    ")\n",
    "\n",
    "halos = cat.halos[:1_000_000]\n",
    "\n",
    "table = Table(halos)\n",
    "table.meta.clear()\n",
    "\n",
    "table.write('Abacus_halos_z0.200.fits', format='fits', overwrite=True)"
   ]
  },
  {
   "cell_type": "markdown",
   "id": "5a26ebe9",
   "metadata": {},
   "source": [
    "Snapshot z=0.250"
   ]
  },
  {
   "cell_type": "code",
   "execution_count": 6,
   "id": "b8d86646-91ed-41e7-b322-4035cd26cd7b",
   "metadata": {
    "trusted": true
   },
   "outputs": [],
   "source": [
    "cat = CompaSOHaloCatalog(\n",
    "        '/home/jovyan/AbacusSummit/AbacusSummit_base_c000_ph000/halos/z0.250',\n",
    "\n",
    "        fields=['x_L2com', 'sigman_L2com','sigman_eigenvecsMin_L2com','sigman_eigenvecsMid_L2com','sigman_eigenvecsMaj_L2com']\n",
    ")\n",
    "\n",
    "halos = cat.halos[:1_000_000]\n",
    "\n",
    "table = Table(halos)\n",
    "table.meta.clear()\n",
    "\n",
    "table.write('Abacus_halos_z0.250.fits', format='fits', overwrite=True)"
   ]
  },
  {
   "cell_type": "markdown",
   "id": "4d548fc2",
   "metadata": {},
   "source": [
    "Snapshot z=0.300"
   ]
  },
  {
   "cell_type": "code",
   "execution_count": 7,
   "id": "7645d534-fac2-4ae1-ac97-b85e54c4e748",
   "metadata": {
    "trusted": true
   },
   "outputs": [],
   "source": [
    "cat = CompaSOHaloCatalog(\n",
    "        '/home/jovyan/AbacusSummit/AbacusSummit_base_c000_ph000/halos/z0.300',\n",
    "\n",
    "        fields=['x_L2com', 'sigman_L2com','sigman_eigenvecsMin_L2com','sigman_eigenvecsMid_L2com','sigman_eigenvecsMaj_L2com']\n",
    ")\n",
    "\n",
    "halos = cat.halos[:1_000_000]\n",
    "\n",
    "table = Table(halos)\n",
    "table.meta.clear()\n",
    "\n",
    "table.write('Abacus_halos_z0.300.fits', format='fits', overwrite=True)"
   ]
  },
  {
   "cell_type": "markdown",
   "id": "6d9ca3b5",
   "metadata": {},
   "source": [
    "Snapshot z=0.575"
   ]
  },
  {
   "cell_type": "code",
   "execution_count": null,
   "id": "63d87f2b",
   "metadata": {},
   "outputs": [],
   "source": [
    "cat = CompaSOHaloCatalog(\n",
    "        '/home/jovyan/AbacusSummit/AbacusSummit_base_c000_ph000/halos/z0.575',\n",
    "\n",
    "        fields=['x_L2com', 'sigman_L2com','sigman_eigenvecsMin_L2com','sigman_eigenvecsMid_L2com','sigman_eigenvecsMaj_L2com']\n",
    ")\n",
    "\n",
    "halos = cat.halos[:1_000_000]\n",
    "\n",
    "table = Table(halos)\n",
    "table.meta.clear()\n",
    "\n",
    "table.write('Abacus_halos_z0.575.fits', format='fits', overwrite=True)"
   ]
  },
  {
   "cell_type": "markdown",
   "id": "c30f11bc",
   "metadata": {},
   "source": [
    "### Selecting halos by ranges of masses (at z=0.575)"
   ]
  },
  {
   "cell_type": "markdown",
   "id": "c0f23542",
   "metadata": {},
   "source": [
    "Low masses: $[10^9$ ; $10^{12}]$ solar masses"
   ]
  },
  {
   "cell_type": "code",
   "execution_count": 4,
   "id": "49dcc1a2-9503-4a1b-a591-8ea08f08fffd",
   "metadata": {
    "trusted": true
   },
   "outputs": [],
   "source": [
    "cat = CompaSOHaloCatalog(\n",
    "        '/home/jovyan/AbacusSummit/AbacusSummit_base_c000_ph000/halos/z0.575',\n",
    "\n",
    "        fields=['x_L2com', 'sigman_L2com','sigman_eigenvecsMin_L2com','sigman_eigenvecsMid_L2com','sigman_eigenvecsMaj_L2com'],\n",
    "\n",
    "        filter_func = lambda h: (h['N'] > 0) & (h['N'] < 10**3),\n",
    ")\n",
    "\n",
    "halos = cat.halos[:1_000_000]\n",
    "\n",
    "table = Table(halos)\n",
    "table.meta.clear()\n",
    "\n",
    "table.write('Abacus_halos_z0.575_low_mass.fits', format='fits', overwrite=True)"
   ]
  },
  {
   "cell_type": "markdown",
   "id": "3ec558b7",
   "metadata": {},
   "source": [
    "Intermediate masses: $[10^{12}$ ; $5\\times10^{13}]$ solar masses"
   ]
  },
  {
   "cell_type": "code",
   "execution_count": 3,
   "id": "619daa77-d21b-4527-9da6-7b8b132427a6",
   "metadata": {
    "trusted": true
   },
   "outputs": [],
   "source": [
    "# Intermediate mass (10^12 - 5*10^13 solar masses)\n",
    "cat = CompaSOHaloCatalog(\n",
    "        '/home/jovyan/AbacusSummit/AbacusSummit_base_c000_ph000/halos/z0.575',\n",
    "\n",
    "        fields=['x_L2com', 'sigman_L2com','sigman_eigenvecsMin_L2com','sigman_eigenvecsMid_L2com','sigman_eigenvecsMaj_L2com'],\n",
    "\n",
    "        filter_func = lambda h: (h['N'] > 10**3) & (h['N'] < 5*10**4),\n",
    ")\n",
    "\n",
    "halos = cat.halos[:1_000_000]\n",
    "\n",
    "table = Table(halos)\n",
    "table.meta.clear()\n",
    "\n",
    "table.write('Abacus_halos_z0.575_mid_mass.fits', format='fits', overwrite=True)"
   ]
  },
  {
   "cell_type": "markdown",
   "id": "d16e35b7",
   "metadata": {},
   "source": [
    "High masses: $[5\\times10^{13}$ ; $10^{15}]$ solar masses"
   ]
  },
  {
   "cell_type": "code",
   "execution_count": 4,
   "id": "2a2bf42a-53f6-443e-8a4f-a0735b5c2ebd",
   "metadata": {
    "trusted": true
   },
   "outputs": [],
   "source": [
    "# High mass (5*10^13 - 10^15 solar masses)\n",
    "cat = CompaSOHaloCatalog(\n",
    "        '/home/jovyan/AbacusSummit/AbacusSummit_base_c000_ph000/halos/z0.575',\n",
    "\n",
    "        fields=['x_L2com', 'sigman_L2com','sigman_eigenvecsMin_L2com','sigman_eigenvecsMid_L2com','sigman_eigenvecsMaj_L2com'],\n",
    "\n",
    "        filter_func = lambda h: (h['N'] > 5*10**4) & (h['N'] < 10**6),\n",
    ")\n",
    "\n",
    "halos = cat.halos[:1_000_000]\n",
    "\n",
    "table = Table(halos)\n",
    "table.meta.clear()\n",
    "\n",
    "table.write('Abacus_halos_z0.575_high_mass.fits', format='fits', overwrite=True)"
   ]
  },
  {
   "cell_type": "code",
   "execution_count": null,
   "id": "82c74364-deba-49a7-8be5-11a3cb448359",
   "metadata": {
    "trusted": true
   },
   "outputs": [],
   "source": []
  }
 ],
 "metadata": {
  "kernelspec": {
   "display_name": "Python 3 (ipykernel)",
   "language": "python",
   "name": "python3"
  },
  "language_info": {
   "codemirror_mode": {
    "name": "ipython",
    "version": 3
   },
   "file_extension": ".py",
   "mimetype": "text/x-python",
   "name": "python",
   "nbconvert_exporter": "python",
   "pygments_lexer": "ipython3",
   "version": "3.10.14"
  }
 },
 "nbformat": 4,
 "nbformat_minor": 5
}
