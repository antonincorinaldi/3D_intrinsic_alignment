{
 "cells": [
  {
   "cell_type": "markdown",
   "id": "2ea3582d-0b74-462f-b7e9-13aceda2d452",
   "metadata": {},
   "source": [
    "Extraction of Abacus halos in the Abacus halo catalogs"
   ]
  },
  {
   "cell_type": "code",
   "execution_count": 6,
   "id": "4bada36f-e2f2-485b-a5b8-c75394d85c2d",
   "metadata": {
    "tags": [],
    "trusted": true
   },
   "outputs": [],
   "source": [
    "from abacusnbody.data.compaso_halo_catalog import CompaSOHaloCatalog\n",
    "import matplotlib.pyplot as plt\n",
    "from astropy.table import Table"
   ]
  },
  {
   "cell_type": "code",
   "execution_count": 7,
   "id": "f13d07e2-ad66-4ad9-b7c0-a6da68010f40",
   "metadata": {
    "tags": [],
    "trusted": true
   },
   "outputs": [],
   "source": [
    "cat = CompaSOHaloCatalog(\n",
    "        '/home/jovyan/AbacusSummit/AbacusSummit_base_c000_ph000/halos/z0.575',\n",
    "        fields=['x_L2com', 'sigman_L2com','sigman_eigenvecsMin_L2com','sigman_eigenvecsMid_L2com','sigman_eigenvecsMaj_L2com']\n",
    ")"
   ]
  },
  {
   "cell_type": "markdown",
   "id": "1dbbbbf5",
   "metadata": {},
   "source": [
    "Selection of 1 000 000 halos"
   ]
  },
  {
   "cell_type": "code",
   "execution_count": 8,
   "id": "7be5f36e-e455-4885-b908-72cccd6d533c",
   "metadata": {
    "tags": [],
    "trusted": true
   },
   "outputs": [],
   "source": [
    "halos = cat.halos[:1_000_000]"
   ]
  },
  {
   "cell_type": "code",
   "execution_count": 9,
   "id": "b45a8ebe-eb16-4501-bc43-629717a2792e",
   "metadata": {
    "trusted": true
   },
   "outputs": [],
   "source": [
    "table = Table(halos)\n",
    "table.meta.clear()\n",
    "\n",
    "table.write('Abacus_halos_z0.575.fits', format='fits', overwrite=True)"
   ]
  },
  {
   "cell_type": "code",
   "execution_count": null,
   "id": "fb95fbde-02c4-4222-98ee-6de66ea6e8ef",
   "metadata": {
    "trusted": false
   },
   "outputs": [],
   "source": []
  }
 ],
 "metadata": {
  "kernelspec": {
   "display_name": "Python 3 (ipykernel)",
   "language": "python",
   "name": "python3"
  },
  "language_info": {
   "codemirror_mode": {
    "name": "ipython",
    "version": 3
   },
   "file_extension": ".py",
   "mimetype": "text/x-python",
   "name": "python",
   "nbconvert_exporter": "python",
   "pygments_lexer": "ipython3",
   "version": "3.10.14"
  }
 },
 "nbformat": 4,
 "nbformat_minor": 5
}
